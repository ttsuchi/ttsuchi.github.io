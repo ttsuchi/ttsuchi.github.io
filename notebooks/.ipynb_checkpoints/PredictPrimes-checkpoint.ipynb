{
 "metadata": {
  "image": "http://i65.photobucket.com/albums/h235/Ignwar/Album%20Black%20and%20White/BedfordOakNewYorkCity.jpg",
  "name": "",
  "signature": "sha256:9e2b0c8d9c01e6f54f7c90e30c4c58a5a505b5cd8edb8c9248d5e84c05148a7b",
  "title": "Predicting Prime Numbers Using Machine Learning"
 },
 "nbformat": 3,
 "nbformat_minor": 0,
 "worksheets": [
  {
   "cells": [
    {
     "cell_type": "heading",
     "level": 1,
     "metadata": {},
     "source": [
      "Predicting Prime Numbers Using Machine Learning"
     ]
    },
    {
     "cell_type": "markdown",
     "metadata": {},
     "source": [
      "$$ y^2 = x^2 $$"
     ]
    },
    {
     "cell_type": "code",
     "collapsed": false,
     "input": [],
     "language": "python",
     "metadata": {},
     "outputs": []
    }
   ],
   "metadata": {}
  }
 ]
}